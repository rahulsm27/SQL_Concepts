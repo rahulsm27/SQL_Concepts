{
 "cells": [
  {
   "cell_type": "code",
   "execution_count": 4,
   "metadata": {},
   "outputs": [
    {
     "name": "stdout",
     "output_type": "stream",
     "text": [
      "{'response': 'Hello from sfa Function', 'success': True}\n"
     ]
    }
   ],
   "source": [
    "import requests\n",
    "\n",
    "result = requests.post(\"https://us-central1-kaggle-399805.cloudfunctions.net/function-1\"\n",
    "                    ,json = { 'msg': 'Hello from sfa Function' })\n",
    "print(result.json())"
   ]
  },
  {
   "cell_type": "code",
   "execution_count": 6,
   "metadata": {},
   "outputs": [
    {
     "ename": "Forbidden",
     "evalue": "403 POST https://storage.googleapis.com/storage/v1/b?project=rahulsm27scalableml&prettyPrint=false: The billing account for the owning project is disabled in state absent",
     "output_type": "error",
     "traceback": [
      "\u001b[0;31m---------------------------------------------------------------------------\u001b[0m",
      "\u001b[0;31mForbidden\u001b[0m                                 Traceback (most recent call last)",
      "\u001b[1;32m/Users/rahulmahajan/Desktop/Projects/DS/7 Machine Learning Codes/201 SQL/SQL_Practicse/cloudserver.ipynb Cell 2\u001b[0m line \u001b[0;36m5\n\u001b[1;32m      <a href='vscode-notebook-cell:/Users/rahulmahajan/Desktop/Projects/DS/7%20Machine%20Learning%20Codes/201%20SQL/SQL_Practicse/cloudserver.ipynb#W1sZmlsZQ%3D%3D?line=1'>2</a>\u001b[0m bucket_name \u001b[39m=\u001b[39m \u001b[39m\"\u001b[39m\u001b[39mrahulsm27scalableml1\u001b[39m\u001b[39m\"\u001b[39m\n\u001b[1;32m      <a href='vscode-notebook-cell:/Users/rahulmahajan/Desktop/Projects/DS/7%20Machine%20Learning%20Codes/201%20SQL/SQL_Practicse/cloudserver.ipynb#W1sZmlsZQ%3D%3D?line=3'>4</a>\u001b[0m storage_client \u001b[39m=\u001b[39m storage\u001b[39m.\u001b[39mClient(\u001b[39m'\u001b[39m\u001b[39mrahulsm27scalableml\u001b[39m\u001b[39m'\u001b[39m)\n\u001b[0;32m----> <a href='vscode-notebook-cell:/Users/rahulmahajan/Desktop/Projects/DS/7%20Machine%20Learning%20Codes/201%20SQL/SQL_Practicse/cloudserver.ipynb#W1sZmlsZQ%3D%3D?line=4'>5</a>\u001b[0m storage_client\u001b[39m.\u001b[39;49mcreate_bucket(bucket_name)\n\u001b[1;32m      <a href='vscode-notebook-cell:/Users/rahulmahajan/Desktop/Projects/DS/7%20Machine%20Learning%20Codes/201%20SQL/SQL_Practicse/cloudserver.ipynb#W1sZmlsZQ%3D%3D?line=6'>7</a>\u001b[0m \u001b[39mfor\u001b[39;00m bucket \u001b[39min\u001b[39;00m storage_client\u001b[39m.\u001b[39mlist_buckets():\n\u001b[1;32m      <a href='vscode-notebook-cell:/Users/rahulmahajan/Desktop/Projects/DS/7%20Machine%20Learning%20Codes/201%20SQL/SQL_Practicse/cloudserver.ipynb#W1sZmlsZQ%3D%3D?line=7'>8</a>\u001b[0m     \u001b[39mprint\u001b[39m(bucket\u001b[39m.\u001b[39mname)\n",
      "File \u001b[0;32m/Library/Frameworks/Python.framework/Versions/3.11/lib/python3.11/site-packages/google/cloud/storage/client.py:963\u001b[0m, in \u001b[0;36mClient.create_bucket\u001b[0;34m(self, bucket_or_name, requester_pays, project, user_project, location, data_locations, predefined_acl, predefined_default_object_acl, timeout, retry)\u001b[0m\n\u001b[1;32m    960\u001b[0m \u001b[39mif\u001b[39;00m data_locations \u001b[39mis\u001b[39;00m \u001b[39mnot\u001b[39;00m \u001b[39mNone\u001b[39;00m:\n\u001b[1;32m    961\u001b[0m     properties[\u001b[39m\"\u001b[39m\u001b[39mcustomPlacementConfig\u001b[39m\u001b[39m\"\u001b[39m] \u001b[39m=\u001b[39m {\u001b[39m\"\u001b[39m\u001b[39mdataLocations\u001b[39m\u001b[39m\"\u001b[39m: data_locations}\n\u001b[0;32m--> 963\u001b[0m api_response \u001b[39m=\u001b[39m \u001b[39mself\u001b[39;49m\u001b[39m.\u001b[39;49m_post_resource(\n\u001b[1;32m    964\u001b[0m     \u001b[39m\"\u001b[39;49m\u001b[39m/b\u001b[39;49m\u001b[39m\"\u001b[39;49m,\n\u001b[1;32m    965\u001b[0m     properties,\n\u001b[1;32m    966\u001b[0m     query_params\u001b[39m=\u001b[39;49mquery_params,\n\u001b[1;32m    967\u001b[0m     timeout\u001b[39m=\u001b[39;49mtimeout,\n\u001b[1;32m    968\u001b[0m     retry\u001b[39m=\u001b[39;49mretry,\n\u001b[1;32m    969\u001b[0m     _target_object\u001b[39m=\u001b[39;49mbucket,\n\u001b[1;32m    970\u001b[0m )\n\u001b[1;32m    972\u001b[0m bucket\u001b[39m.\u001b[39m_set_properties(api_response)\n\u001b[1;32m    973\u001b[0m \u001b[39mreturn\u001b[39;00m bucket\n",
      "File \u001b[0;32m/Library/Frameworks/Python.framework/Versions/3.11/lib/python3.11/site-packages/google/cloud/storage/client.py:627\u001b[0m, in \u001b[0;36mClient._post_resource\u001b[0;34m(self, path, data, query_params, headers, timeout, retry, _target_object)\u001b[0m\n\u001b[1;32m    566\u001b[0m \u001b[39mdef\u001b[39;00m \u001b[39m_post_resource\u001b[39m(\n\u001b[1;32m    567\u001b[0m     \u001b[39mself\u001b[39m,\n\u001b[1;32m    568\u001b[0m     path,\n\u001b[0;32m   (...)\u001b[0m\n\u001b[1;32m    574\u001b[0m     _target_object\u001b[39m=\u001b[39m\u001b[39mNone\u001b[39;00m,\n\u001b[1;32m    575\u001b[0m ):\n\u001b[1;32m    576\u001b[0m \u001b[39m    \u001b[39m\u001b[39m\"\"\"Helper for bucket / blob methods making API 'POST' calls.\u001b[39;00m\n\u001b[1;32m    577\u001b[0m \n\u001b[1;32m    578\u001b[0m \u001b[39m    Args:\u001b[39;00m\n\u001b[0;32m   (...)\u001b[0m\n\u001b[1;32m    624\u001b[0m \u001b[39m            If the bucket is not found.\u001b[39;00m\n\u001b[1;32m    625\u001b[0m \u001b[39m    \"\"\"\u001b[39;00m\n\u001b[0;32m--> 627\u001b[0m     \u001b[39mreturn\u001b[39;00m \u001b[39mself\u001b[39;49m\u001b[39m.\u001b[39;49m_connection\u001b[39m.\u001b[39;49mapi_request(\n\u001b[1;32m    628\u001b[0m         method\u001b[39m=\u001b[39;49m\u001b[39m\"\u001b[39;49m\u001b[39mPOST\u001b[39;49m\u001b[39m\"\u001b[39;49m,\n\u001b[1;32m    629\u001b[0m         path\u001b[39m=\u001b[39;49mpath,\n\u001b[1;32m    630\u001b[0m         data\u001b[39m=\u001b[39;49mdata,\n\u001b[1;32m    631\u001b[0m         query_params\u001b[39m=\u001b[39;49mquery_params,\n\u001b[1;32m    632\u001b[0m         headers\u001b[39m=\u001b[39;49mheaders,\n\u001b[1;32m    633\u001b[0m         timeout\u001b[39m=\u001b[39;49mtimeout,\n\u001b[1;32m    634\u001b[0m         retry\u001b[39m=\u001b[39;49mretry,\n\u001b[1;32m    635\u001b[0m         _target_object\u001b[39m=\u001b[39;49m_target_object,\n\u001b[1;32m    636\u001b[0m     )\n",
      "File \u001b[0;32m/Library/Frameworks/Python.framework/Versions/3.11/lib/python3.11/site-packages/google/cloud/storage/_http.py:72\u001b[0m, in \u001b[0;36mConnection.api_request\u001b[0;34m(self, *args, **kwargs)\u001b[0m\n\u001b[1;32m     70\u001b[0m     \u001b[39mif\u001b[39;00m retry:\n\u001b[1;32m     71\u001b[0m         call \u001b[39m=\u001b[39m retry(call)\n\u001b[0;32m---> 72\u001b[0m \u001b[39mreturn\u001b[39;00m call()\n",
      "File \u001b[0;32m/Library/Frameworks/Python.framework/Versions/3.11/lib/python3.11/site-packages/google/api_core/retry.py:372\u001b[0m, in \u001b[0;36mRetry.__call__.<locals>.retry_wrapped_func\u001b[0;34m(*args, **kwargs)\u001b[0m\n\u001b[1;32m    368\u001b[0m target \u001b[39m=\u001b[39m functools\u001b[39m.\u001b[39mpartial(func, \u001b[39m*\u001b[39margs, \u001b[39m*\u001b[39m\u001b[39m*\u001b[39mkwargs)\n\u001b[1;32m    369\u001b[0m sleep_generator \u001b[39m=\u001b[39m exponential_sleep_generator(\n\u001b[1;32m    370\u001b[0m     \u001b[39mself\u001b[39m\u001b[39m.\u001b[39m_initial, \u001b[39mself\u001b[39m\u001b[39m.\u001b[39m_maximum, multiplier\u001b[39m=\u001b[39m\u001b[39mself\u001b[39m\u001b[39m.\u001b[39m_multiplier\n\u001b[1;32m    371\u001b[0m )\n\u001b[0;32m--> 372\u001b[0m \u001b[39mreturn\u001b[39;00m retry_target(\n\u001b[1;32m    373\u001b[0m     target,\n\u001b[1;32m    374\u001b[0m     \u001b[39mself\u001b[39;49m\u001b[39m.\u001b[39;49m_predicate,\n\u001b[1;32m    375\u001b[0m     sleep_generator,\n\u001b[1;32m    376\u001b[0m     \u001b[39mself\u001b[39;49m\u001b[39m.\u001b[39;49m_timeout,\n\u001b[1;32m    377\u001b[0m     on_error\u001b[39m=\u001b[39;49mon_error,\n\u001b[1;32m    378\u001b[0m )\n",
      "File \u001b[0;32m/Library/Frameworks/Python.framework/Versions/3.11/lib/python3.11/site-packages/google/api_core/retry.py:207\u001b[0m, in \u001b[0;36mretry_target\u001b[0;34m(target, predicate, sleep_generator, timeout, on_error, **kwargs)\u001b[0m\n\u001b[1;32m    205\u001b[0m \u001b[39mfor\u001b[39;00m sleep \u001b[39min\u001b[39;00m sleep_generator:\n\u001b[1;32m    206\u001b[0m     \u001b[39mtry\u001b[39;00m:\n\u001b[0;32m--> 207\u001b[0m         result \u001b[39m=\u001b[39m target()\n\u001b[1;32m    208\u001b[0m         \u001b[39mif\u001b[39;00m inspect\u001b[39m.\u001b[39misawaitable(result):\n\u001b[1;32m    209\u001b[0m             warnings\u001b[39m.\u001b[39mwarn(_ASYNC_RETRY_WARNING)\n",
      "File \u001b[0;32m/Library/Frameworks/Python.framework/Versions/3.11/lib/python3.11/site-packages/google/cloud/_http/__init__.py:494\u001b[0m, in \u001b[0;36mJSONConnection.api_request\u001b[0;34m(self, method, path, query_params, data, content_type, headers, api_base_url, api_version, expect_json, _target_object, timeout, extra_api_info)\u001b[0m\n\u001b[1;32m    482\u001b[0m response \u001b[39m=\u001b[39m \u001b[39mself\u001b[39m\u001b[39m.\u001b[39m_make_request(\n\u001b[1;32m    483\u001b[0m     method\u001b[39m=\u001b[39mmethod,\n\u001b[1;32m    484\u001b[0m     url\u001b[39m=\u001b[39murl,\n\u001b[0;32m   (...)\u001b[0m\n\u001b[1;32m    490\u001b[0m     extra_api_info\u001b[39m=\u001b[39mextra_api_info,\n\u001b[1;32m    491\u001b[0m )\n\u001b[1;32m    493\u001b[0m \u001b[39mif\u001b[39;00m \u001b[39mnot\u001b[39;00m \u001b[39m200\u001b[39m \u001b[39m<\u001b[39m\u001b[39m=\u001b[39m response\u001b[39m.\u001b[39mstatus_code \u001b[39m<\u001b[39m \u001b[39m300\u001b[39m:\n\u001b[0;32m--> 494\u001b[0m     \u001b[39mraise\u001b[39;00m exceptions\u001b[39m.\u001b[39mfrom_http_response(response)\n\u001b[1;32m    496\u001b[0m \u001b[39mif\u001b[39;00m expect_json \u001b[39mand\u001b[39;00m response\u001b[39m.\u001b[39mcontent:\n\u001b[1;32m    497\u001b[0m     \u001b[39mreturn\u001b[39;00m response\u001b[39m.\u001b[39mjson()\n",
      "\u001b[0;31mForbidden\u001b[0m: 403 POST https://storage.googleapis.com/storage/v1/b?project=rahulsm27scalableml&prettyPrint=false: The billing account for the owning project is disabled in state absent"
     ]
    }
   ],
   "source": [
    "from google.cloud import storage\n",
    "bucket_name = \"rahulsm27scalableml1\"\n",
    "\n",
    "storage_client = storage.Client('rahulsm27scalableml')\n",
    "storage_client.create_bucket(bucket_name)\n",
    "\n",
    "for bucket in storage_client.list_buckets():\n",
    "    print(bucket.name)"
   ]
  },
  {
   "cell_type": "markdown",
   "metadata": {},
   "source": []
  },
  {
   "cell_type": "code",
   "execution_count": null,
   "metadata": {},
   "outputs": [],
   "source": []
  }
 ],
 "metadata": {
  "kernelspec": {
   "display_name": "Python 3",
   "language": "python",
   "name": "python3"
  },
  "language_info": {
   "codemirror_mode": {
    "name": "ipython",
    "version": 3
   },
   "file_extension": ".py",
   "mimetype": "text/x-python",
   "name": "python",
   "nbconvert_exporter": "python",
   "pygments_lexer": "ipython3",
   "version": "3.11.3"
  },
  "orig_nbformat": 4
 },
 "nbformat": 4,
 "nbformat_minor": 2
}
