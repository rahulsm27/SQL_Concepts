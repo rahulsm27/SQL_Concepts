{
 "cells": [
  {
   "cell_type": "code",
   "execution_count": null,
   "metadata": {},
   "outputs": [],
   "source": [
    "# Q1 Easy\n",
    "# Count from table for two different things.\n",
    "# Use filter or use subquery or use sum & case\n"
   ]
  },
  {
   "cell_type": "code",
   "execution_count": null,
   "metadata": {},
   "outputs": [],
   "source": [
    "# SELECT \n",
    "#   COUNT(*) FILTER (WHERE device_type = 'laptop') AS laptop_views,\n",
    "#   COUNT(*) FILTER (WHERE device_type IN ('tablet', 'phone'))  AS mobile_views \n",
    "# FROM viewership;"
   ]
  },
  {
   "cell_type": "code",
   "execution_count": null,
   "metadata": {},
   "outputs": [],
   "source": [
    "# SELECT \n",
    "#   SUM(CASE WHEN device_type = 'laptop' THEN 1 ELSE 0 END) AS laptop_views, \n",
    "#   SUM(CASE WHEN device_type IN ('tablet', 'phone') THEN 1 ELSE 0 END) AS mobile_views \n",
    "# FROM viewership;"
   ]
  },
  {
   "cell_type": "code",
   "execution_count": null,
   "metadata": {},
   "outputs": [],
   "source": [
    "# select \n",
    "# (sELECT count(*) as laptop_views FROM viewership\n",
    "# WHERE device_type = 'laptop') as laptop_views,\n",
    "# (SELECT count(*) as mobile_views FROM viewership\n",
    "# WHERE device_type = 'tablet' or device_type ='phone') as mobile_views;"
   ]
  },
  {
   "cell_type": "markdown",
   "metadata": {},
   "source": [
    "![Alt text](image.png)"
   ]
  },
  {
   "cell_type": "markdown",
   "metadata": {},
   "source": [
    "![Alt text](image-1.png)"
   ]
  },
  {
   "cell_type": "markdown",
   "metadata": {},
   "source": []
  },
  {
   "cell_type": "code",
   "execution_count": null,
   "metadata": {},
   "outputs": [],
   "source": [
    "# Q2\n",
    "# we can use count in having without using it in select"
   ]
  },
  {
   "cell_type": "markdown",
   "metadata": {},
   "source": [
    "![Alt text](image-2.png)"
   ]
  },
  {
   "cell_type": "markdown",
   "metadata": {},
   "source": [
    "![Alt text](image-3.png)"
   ]
  },
  {
   "cell_type": "code",
   "execution_count": null,
   "metadata": {},
   "outputs": [],
   "source": []
  },
  {
   "cell_type": "code",
   "execution_count": null,
   "metadata": {},
   "outputs": [],
   "source": [
    "# Q 3\n",
    "# left join to find A-B that is entries in a not present in break\n",
    "# use b.key  is null in where"
   ]
  },
  {
   "cell_type": "markdown",
   "metadata": {},
   "source": [
    "![Alt text](image-4.png)"
   ]
  },
  {
   "cell_type": "code",
   "execution_count": null,
   "metadata": {},
   "outputs": [],
   "source": [
    "# SELECT p.page_id FROM pages as p\n",
    "# LEFT JOIN page_likes as pl\n",
    "# on pl.page_id = p.page_id\n",
    "# where pl.page_id is null\n",
    "# order by p.page_id;"
   ]
  },
  {
   "cell_type": "code",
   "execution_count": null,
   "metadata": {},
   "outputs": [],
   "source": [
    "# SELECT page_id\n",
    "# FROM pages\n",
    "# EXCEPT\n",
    "# SELECT page_id\n",
    "# FROM page_likes;"
   ]
  },
  {
   "cell_type": "code",
   "execution_count": null,
   "metadata": {},
   "outputs": [],
   "source": [
    "# SELECT page_id\n",
    "# FROM pages\n",
    "# WHERE page_id NOT IN (\n",
    "#   SELECT page_id\n",
    "#   FROM page_likes\n",
    "#   WHERE page_id IS NOT NULL"
   ]
  },
  {
   "cell_type": "code",
   "execution_count": null,
   "metadata": {},
   "outputs": [],
   "source": [
    "# SELECT page_id\n",
    "# FROM pages\n",
    "# WHERE NOT EXISTS (\n",
    "#   SELECT page_id\n",
    "#   FROM page_likes AS likes\n",
    "#   WHERE likes.page_id = pages.page_id\n",
    "# ;)"
   ]
  },
  {
   "cell_type": "markdown",
   "metadata": {},
   "source": []
  },
  {
   "cell_type": "code",
   "execution_count": null,
   "metadata": {},
   "outputs": [],
   "source": [
    "# # Q how to use subquery in from\n",
    "# Note we cans use same column name "
   ]
  },
  {
   "cell_type": "markdown",
   "metadata": {},
   "source": [
    "![Alt text](image-5.png)"
   ]
  },
  {
   "cell_type": "code",
   "execution_count": null,
   "metadata": {},
   "outputs": [],
   "source": [
    "# SELECT \n",
    "#   tweet_count_per_user AS tweet_bucket, \n",
    "#   COUNT(user_id) AS users_num \n",
    "# FROM (\n",
    "#   SELECT \n",
    "#     user_id, \n",
    "#     COUNT(tweet_id) AS tweet_count_per_user \n",
    "#   FROM tweets \n",
    "#   WHERE tweet_date BETWEEN '2022-01-01' \n",
    "#     AND '2022-12-31'\n",
    "#   GROUP BY user_id) AS total_tweets \n",
    "# GROUP BY tweet_count_per_user;"
   ]
  },
  {
   "cell_type": "code",
   "execution_count": null,
   "metadata": {},
   "outputs": [],
   "source": []
  }
 ],
 "metadata": {
  "kernelspec": {
   "display_name": "Python 3",
   "language": "python",
   "name": "python3"
  },
  "language_info": {
   "name": "python",
   "version": "3.11.3"
  },
  "orig_nbformat": 4
 },
 "nbformat": 4,
 "nbformat_minor": 2
}
