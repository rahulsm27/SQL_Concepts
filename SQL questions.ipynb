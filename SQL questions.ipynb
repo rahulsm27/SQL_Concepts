{
 "cells": [
  {
   "cell_type": "code",
   "execution_count": null,
   "metadata": {},
   "outputs": [],
   "source": [
    "# Q1 Easy\n",
    "# Count from table for two different things.\n",
    "# Use filter or use subquery or use sum & case\n"
   ]
  },
  {
   "cell_type": "code",
   "execution_count": null,
   "metadata": {},
   "outputs": [],
   "source": [
    "# SELECT \n",
    "#   COUNT(*) FILTER (WHERE device_type = 'laptop') AS laptop_views,\n",
    "#   COUNT(*) FILTER (WHERE device_type IN ('tablet', 'phone'))  AS mobile_views \n",
    "# FROM viewership;"
   ]
  },
  {
   "cell_type": "code",
   "execution_count": null,
   "metadata": {},
   "outputs": [],
   "source": [
    "# SELECT \n",
    "#   SUM(CASE WHEN device_type = 'laptop' THEN 1 ELSE 0 END) AS laptop_views, \n",
    "#   SUM(CASE WHEN device_type IN ('tablet', 'phone') THEN 1 ELSE 0 END) AS mobile_views \n",
    "# FROM viewership;"
   ]
  },
  {
   "cell_type": "code",
   "execution_count": null,
   "metadata": {},
   "outputs": [],
   "source": [
    "# select \n",
    "# (sELECT count(*) as laptop_views FROM viewership\n",
    "# WHERE device_type = 'laptop') as laptop_views,\n",
    "# (SELECT count(*) as mobile_views FROM viewership\n",
    "# WHERE device_type = 'tablet' or device_type ='phone') as mobile_views;"
   ]
  },
  {
   "cell_type": "markdown",
   "metadata": {},
   "source": [
    "![Alt text](image.png)"
   ]
  },
  {
   "cell_type": "markdown",
   "metadata": {},
   "source": [
    "![Alt text](image-1.png)"
   ]
  },
  {
   "cell_type": "markdown",
   "metadata": {},
   "source": []
  },
  {
   "cell_type": "code",
   "execution_count": null,
   "metadata": {},
   "outputs": [],
   "source": [
    "# Q2\n",
    "# we can use count in having without using it in select"
   ]
  },
  {
   "cell_type": "markdown",
   "metadata": {},
   "source": [
    "![Alt text](image-6.png)"
   ]
  },
  {
   "cell_type": "markdown",
   "metadata": {},
   "source": [
    "![Alt text](image-3.png)"
   ]
  },
  {
   "cell_type": "code",
   "execution_count": null,
   "metadata": {},
   "outputs": [],
   "source": []
  },
  {
   "cell_type": "code",
   "execution_count": null,
   "metadata": {},
   "outputs": [],
   "source": [
    "# Q 3\n",
    "# left join to find A-B that is entries in a not present in break\n",
    "# use b.key  is null in where"
   ]
  },
  {
   "cell_type": "markdown",
   "metadata": {},
   "source": [
    "![Alt text](image-4.png)"
   ]
  },
  {
   "cell_type": "code",
   "execution_count": null,
   "metadata": {},
   "outputs": [],
   "source": [
    "# SELECT p.page_id FROM pages as p\n",
    "# LEFT JOIN page_likes as pl\n",
    "# on pl.page_id = p.page_id\n",
    "# where pl.page_id is null\n",
    "# order by p.page_id;"
   ]
  },
  {
   "cell_type": "code",
   "execution_count": null,
   "metadata": {},
   "outputs": [],
   "source": [
    "# SELECT page_id\n",
    "# FROM pages\n",
    "# EXCEPT\n",
    "# SELECT page_id\n",
    "# FROM page_likes;"
   ]
  },
  {
   "cell_type": "code",
   "execution_count": null,
   "metadata": {},
   "outputs": [],
   "source": [
    "# SELECT page_id\n",
    "# FROM pages\n",
    "# WHERE page_id NOT IN (\n",
    "#   SELECT page_id\n",
    "#   FROM page_likes\n",
    "#   WHERE page_id IS NOT NULL"
   ]
  },
  {
   "cell_type": "code",
   "execution_count": null,
   "metadata": {},
   "outputs": [],
   "source": [
    "# SELECT page_id\n",
    "# FROM pages\n",
    "# WHERE NOT EXISTS (\n",
    "#   SELECT page_id\n",
    "#   FROM page_likes AS likes\n",
    "#   WHERE likes.page_id = pages.page_id\n",
    "# ;)"
   ]
  },
  {
   "cell_type": "markdown",
   "metadata": {},
   "source": []
  },
  {
   "cell_type": "code",
   "execution_count": null,
   "metadata": {},
   "outputs": [],
   "source": [
    "# # Q how to use subquery in from\n",
    "# Note we cans use same column name "
   ]
  },
  {
   "cell_type": "markdown",
   "metadata": {},
   "source": [
    "![Alt text](image-5.png)"
   ]
  },
  {
   "cell_type": "code",
   "execution_count": null,
   "metadata": {},
   "outputs": [],
   "source": [
    "# SELECT \n",
    "#   tweet_count_per_user AS tweet_bucket, \n",
    "#   COUNT(user_id) AS users_num \n",
    "# FROM (\n",
    "#   SELECT \n",
    "#     user_id, \n",
    "#     COUNT(tweet_id) AS tweet_count_per_user \n",
    "#   FROM tweets \n",
    "#   WHERE tweet_date BETWEEN '2022-01-01' \n",
    "#     AND '2022-12-31'\n",
    "#   GROUP BY user_id) AS total_tweets \n",
    "# GROUP BY tweet_count_per_user;"
   ]
  },
  {
   "cell_type": "code",
   "execution_count": null,
   "metadata": {},
   "outputs": [],
   "source": []
  },
  {
   "cell_type": "code",
   "execution_count": 1,
   "metadata": {},
   "outputs": [],
   "source": [
    "# extract month "
   ]
  },
  {
   "cell_type": "markdown",
   "metadata": {},
   "source": [
    "![Alt text](image-7.png)"
   ]
  },
  {
   "cell_type": "markdown",
   "metadata": {},
   "source": []
  },
  {
   "cell_type": "code",
   "execution_count": null,
   "metadata": {},
   "outputs": [],
   "source": []
  },
  {
   "cell_type": "code",
   "execution_count": null,
   "metadata": {},
   "outputs": [],
   "source": [
    "# LIKE and other operators"
   ]
  },
  {
   "cell_type": "markdown",
   "metadata": {},
   "source": [
    "![Alt text](image-8.png)"
   ]
  },
  {
   "cell_type": "markdown",
   "metadata": {},
   "source": [
    "![Alt text](image-10.png)"
   ]
  },
  {
   "cell_type": "code",
   "execution_count": null,
   "metadata": {},
   "outputs": [],
   "source": []
  },
  {
   "cell_type": "code",
   "execution_count": null,
   "metadata": {},
   "outputs": [],
   "source": [
    "# HAVING "
   ]
  },
  {
   "cell_type": "code",
   "execution_count": null,
   "metadata": {},
   "outputs": [],
   "source": [
    "# # # HAVING VS WHERE\n",
    "# # we can having having avg() without having that column in select\n",
    "# In SQL, HAVING can be used to filter aggregated data using multiple conditions, just in the same way WHERE can filter data with multiple conditions."
   ]
  },
  {
   "cell_type": "markdown",
   "metadata": {},
   "source": [
    "![Alt text](image-11.png)"
   ]
  },
  {
   "cell_type": "code",
   "execution_count": null,
   "metadata": {},
   "outputs": [],
   "source": [
    "# Can HAVING be used without GROUP BY?\n",
    "# It's technically possible to have HAVING without GROUP BY in SQL, and in this case HAVING operates the same as WHERE. However, practically speaking, it's super weird to use HAVING in this context. For the most part, you should just use a WHERE clause if trying to filter on non-aggregated values.\n",
    "\n"
   ]
  },
  {
   "cell_type": "code",
   "execution_count": null,
   "metadata": {},
   "outputs": [],
   "source": []
  },
  {
   "cell_type": "code",
   "execution_count": null,
   "metadata": {},
   "outputs": [],
   "source": [
    "# DISTINCT"
   ]
  },
  {
   "cell_type": "code",
   "execution_count": null,
   "metadata": {},
   "outputs": [],
   "source": [
    "# SELECT DISTINCT manufacturer\n",
    "# FROM pharmacy_sales;\n",
    "\n",
    "#VIMP ***\n",
    "\n",
    "# DISTINCT With Two Columns\n",
    "# If you include two (or more) columns in a SELECT DISTINCT clause, your results will contain all of the unique pairs of those two columns."
   ]
  },
  {
   "cell_type": "code",
   "execution_count": null,
   "metadata": {},
   "outputs": [],
   "source": [
    "# You can use DISTINCT with aggregate functions – the most common one being COUNT. Here's an example that finds the number of unique user's who made trades:\n",
    "\n",
    "# SELECT COUNT(DISTINCT user_id) \n",
    "# FROM trades;"
   ]
  },
  {
   "cell_type": "markdown",
   "metadata": {},
   "source": [
    "![Alt text](image-13.png)"
   ]
  },
  {
   "cell_type": "code",
   "execution_count": null,
   "metadata": {},
   "outputs": [],
   "source": []
  },
  {
   "cell_type": "code",
   "execution_count": null,
   "metadata": {},
   "outputs": [],
   "source": [
    "# ARITHMATIC"
   ]
  },
  {
   "cell_type": "code",
   "execution_count": null,
   "metadata": {},
   "outputs": [],
   "source": [
    "# In addition to querying raw data with SQL, you can also use math expressions to transform column values. Here's an example:\n",
    "\n",
    "# SELECT particle_speed / 10.0 + speed_offset\n",
    "# FROM particle_sensor_data\n",
    "# WHERE (particle_position ^ 2) * 10.0 > 500\n",
    "# AND sensor_type = 'photon'\n",
    "# AND measurement_day %  7 = 0;\n",
    "# Let's dive into each arithmetic operator, one by one.\n",
    "\n",
    "# SQL Arithmetic Operators\n",
    "# SQL Addition +\n",
    "# The + operator adds two numbers.\n",
    "\n",
    "# SELECT salary + bonus AS total_compensation FROM employees;\n",
    "# SQL Subtraction -\n",
    "# The - operator subtracts one column value from another.\n",
    "\n",
    "# SELECT revenue - expenses AS profit FROM product_sales;\n",
    "# SQL Multiplication *\n",
    "# The * operator multiplies two numbers.\n",
    "\n",
    "# SELECT units_sold * price AS revenue FROM ecomm_orders;\n",
    "# Note: this is exactly the same * as SELECT * FROM table_name... so don't get confused by *'s two uses!!\n",
    "\n",
    "# SQL Division /\n",
    "# The / operator divides the first column value by the number in the 2nd column.\n",
    "\n",
    "# SELECT country_gdp / population AS gdp_per_capita FROM econ_stats;"
   ]
  },
  {
   "cell_type": "markdown",
   "metadata": {},
   "source": [
    "![Alt text](image-14.png)"
   ]
  },
  {
   "cell_type": "markdown",
   "metadata": {},
   "source": []
  },
  {
   "cell_type": "code",
   "execution_count": null,
   "metadata": {},
   "outputs": [],
   "source": [
    "# Example of having min - max in select using group by..if we use group by min and max operates at group by level"
   ]
  },
  {
   "cell_type": "markdown",
   "metadata": {},
   "source": [
    "![Alt text](image-15.png)"
   ]
  },
  {
   "cell_type": "markdown",
   "metadata": {},
   "source": []
  },
  {
   "cell_type": "code",
   "execution_count": null,
   "metadata": {},
   "outputs": [],
   "source": [
    "# # In below note\n",
    "# we use where as filter is at row level\n",
    "# we cannot use alias in where as where gets evaluated first"
   ]
  },
  {
   "cell_type": "markdown",
   "metadata": {},
   "source": [
    "![Alt text](image-16.png)"
   ]
  },
  {
   "cell_type": "markdown",
   "metadata": {},
   "source": []
  },
  {
   "cell_type": "code",
   "execution_count": null,
   "metadata": {},
   "outputs": [],
   "source": [
    "# MATHEMTETCIAL FUNCTIONS"
   ]
  },
  {
   "cell_type": "code",
   "execution_count": null,
   "metadata": {},
   "outputs": [],
   "source": [
    "# ABS(): Calculating Absolute Differences"
   ]
  },
  {
   "cell_type": "code",
   "execution_count": null,
   "metadata": {},
   "outputs": [],
   "source": [
    "# SELECT \n",
    "#   date, \n",
    "#   ticker,\n",
    "#   (close-open) AS difference,\n",
    "#   ABS(close-open) AS abs_difference\n",
    "# FROM stock_prices\n",
    "# WHERE EXTRACT(YEAR FROM date) = 2023\n",
    "#   AND ticker = 'GOOG';"
   ]
  },
  {
   "cell_type": "code",
   "execution_count": null,
   "metadata": {},
   "outputs": [],
   "source": [
    "# ROUND(): Rounding Numbers\n",
    "# Consider a scenario where you're compiling a report displaying the average closing prices of Apple's stock (ticker: 'AAPL') throughout 2022. To ensure the report's readability, you decide to round the average prices to 2 decimal places."
   ]
  },
  {
   "cell_type": "code",
   "execution_count": null,
   "metadata": {},
   "outputs": [],
   "source": [
    "# SELECT \n",
    "#   ticker,\n",
    "#   AVG(close) AS avg_close,\n",
    "#   ROUND(AVG(close), 2) AS rounded_avg_close\n",
    "# FROM stock_prices\n",
    "# WHERE EXTRACT(YEAR FROM date) = 2022\n",
    "# GROUP BY ticker;"
   ]
  },
  {
   "cell_type": "code",
   "execution_count": null,
   "metadata": {},
   "outputs": [],
   "source": [
    "# CEIL() and FLOOR(): Rounding Up and Down\n",
    "# Now, imagine you're analyzing Facebook's stock performance (ticker: 'META') to identify potential trading ranges.\n",
    "\n",
    "# We can utilize the CEIL() function to round up and the FLOOR() function to round down to the lowest and highest prices.\n",
    "\n",
    "# SELECT \n",
    "#   date,\n",
    "#   ticker,\n",
    "#   high,\n",
    "#   CEIL(high) AS resistance_level,\n",
    "#   low,\n",
    "#   FLOOR(low) AS support_level\n",
    "# FROM stock_prices\n",
    "# WHERE ticker = 'META'\n",
    "# ORDER BY date;"
   ]
  },
  {
   "cell_type": "code",
   "execution_count": null,
   "metadata": {},
   "outputs": [],
   "source": [
    "# POWER(): Calculating Squared Values\n",
    "# In this scenario, we'll explore the concept of squared values by focusing on the 3 popular tech stocks: Apple ('AAPL'), Google ('GOOG'), and Microsoft ('MSFT'). Although this scenario is simplified for illustrative purposes, it offers a straightforward way to introduce the usage of the POWER() function.\n",
    "\n",
    "# The POWER() function raises a number to a specified power, allowing us to perform exponential calculations.\n",
    "\n",
    "# SELECT \n",
    "#   date,\n",
    "#   ticker,\n",
    "#   close,\n",
    "#   ROUND(POWER(close, 2),2) AS squared_close\n",
    "# FROM stock_prices\n",
    "# WHERE ticker IN ('AAPL', 'GOOG', 'MSFT')\n",
    "# ORDER BY date;"
   ]
  },
  {
   "cell_type": "code",
   "execution_count": null,
   "metadata": {},
   "outputs": [],
   "source": []
  },
  {
   "cell_type": "code",
   "execution_count": null,
   "metadata": {},
   "outputs": [],
   "source": []
  },
  {
   "cell_type": "code",
   "execution_count": null,
   "metadata": {},
   "outputs": [],
   "source": [
    "# DIVISION "
   ]
  },
  {
   "cell_type": "code",
   "execution_count": null,
   "metadata": {},
   "outputs": [],
   "source": [
    "# # VERY IMP\n",
    "# n SQL, the division operator / treats integers (whole numbers like 1, -69, 420) differently than in Excel. In SQL, integer division discards the remainder from the output, providing only the integer (whole number) part of the result. This behavior contrasts with Excel, which retains the decimal part."
   ]
  },
  {
   "cell_type": "code",
   "execution_count": null,
   "metadata": {},
   "outputs": [],
   "source": [
    "# You can still make SQL achieve decimal output with a few tricks such as:\n",
    "\n",
    "# CAST() function\n",
    "# multiplying by 1.0\n",
    "# being explicit with types using ::"
   ]
  },
  {
   "cell_type": "code",
   "execution_count": null,
   "metadata": {},
   "outputs": [],
   "source": [
    "# SELECT \n",
    "#   CAST(10 AS DECIMAL)/4,\n",
    "#   CAST(10 AS FLOAT)/4,\n",
    "#   10/CAST(6 AS DECIMAL),\n",
    "#   10/CAST(6 AS FLOAT); "
   ]
  },
  {
   "cell_type": "code",
   "execution_count": null,
   "metadata": {},
   "outputs": [],
   "source": [
    "# SELECT \n",
    "#   10/6,\n",
    "#   10*1.0/6,\n",
    "#   10/6*1.0,\n",
    "#   10/(6*1.0); "
   ]
  },
  {
   "cell_type": "code",
   "execution_count": null,
   "metadata": {},
   "outputs": [],
   "source": [
    "# SELECT \n",
    "#   10::DECIMAL/4,\n",
    "#   10::FLOAT/4,\n",
    "#   10/4::DECIMAL,\n",
    "#   10/4::FLOAT,\n",
    "#   10::DECIMAL/6,\n",
    "#   10::FLOAT/6;"
   ]
  }
 ],
 "metadata": {
  "kernelspec": {
   "display_name": "Python 3",
   "language": "python",
   "name": "python3"
  },
  "language_info": {
   "codemirror_mode": {
    "name": "ipython",
    "version": 3
   },
   "file_extension": ".py",
   "mimetype": "text/x-python",
   "name": "python",
   "nbconvert_exporter": "python",
   "pygments_lexer": "ipython3",
   "version": "3.11.3"
  },
  "orig_nbformat": 4
 },
 "nbformat": 4,
 "nbformat_minor": 2
}
