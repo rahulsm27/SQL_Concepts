{
 "cells": [
  {
   "cell_type": "code",
   "execution_count": null,
   "metadata": {},
   "outputs": [],
   "source": [
    "# IMP\n",
    "# check order..where always before group by \n",
    "# where for filtering on rows\n",
    "#     having for filtering on aggregrates..column not required in select for filtering in having by\n",
    "# subquery in from always alias\n",
    "# corelated subquery\n",
    "# date extraction - extract\n",
    "# where filter\n",
    "# subqueries scalar--can be used in select, from, where\n",
    "# Rollowing window - avg and sum ..if we use orde by it is runnin total or average..if not then for whole window...max and min is for whole window\n"
   ]
  },
  {
   "cell_type": "code",
   "execution_count": null,
   "metadata": {},
   "outputs": [],
   "source": []
  },
  {
   "cell_type": "code",
   "execution_count": null,
   "metadata": {},
   "outputs": [],
   "source": [
    "# Q1 Easy\n",
    "# Count from table for two different things.\n",
    "# Use filter or use subquery or use sum & case\n"
   ]
  },
  {
   "cell_type": "code",
   "execution_count": null,
   "metadata": {},
   "outputs": [],
   "source": [
    "# SELECT \n",
    "#   COUNT(*) FILTER (WHERE device_type = 'laptop') AS laptop_views,\n",
    "#   COUNT(*) FILTER (WHERE device_type IN ('tablet', 'phone'))  AS mobile_views \n",
    "# FROM viewership;"
   ]
  },
  {
   "cell_type": "code",
   "execution_count": null,
   "metadata": {},
   "outputs": [],
   "source": [
    "# SELECT \n",
    "#   SUM(CASE WHEN device_type = 'laptop' THEN 1 ELSE 0 END) AS laptop_views, \n",
    "#   SUM(CASE WHEN device_type IN ('tablet', 'phone') THEN 1 ELSE 0 END) AS mobile_views \n",
    "# FROM viewership;"
   ]
  },
  {
   "cell_type": "code",
   "execution_count": null,
   "metadata": {},
   "outputs": [],
   "source": [
    "# select \n",
    "# (sELECT count(*) as laptop_views FROM viewership\n",
    "# WHERE device_type = 'laptop') as laptop_views,\n",
    "# (SELECT count(*) as mobile_views FROM viewership\n",
    "# WHERE device_type = 'tablet' or device_type ='phone') as mobile_views;"
   ]
  },
  {
   "cell_type": "markdown",
   "metadata": {},
   "source": [
    "![Alt text](image.png)"
   ]
  },
  {
   "cell_type": "markdown",
   "metadata": {},
   "source": [
    "![Alt text](image-1.png)"
   ]
  },
  {
   "cell_type": "markdown",
   "metadata": {},
   "source": []
  },
  {
   "cell_type": "code",
   "execution_count": null,
   "metadata": {},
   "outputs": [],
   "source": [
    "# Q2\n",
    "# we can use count in having without using it in select"
   ]
  },
  {
   "cell_type": "markdown",
   "metadata": {},
   "source": [
    "![Alt text](image-6.png)"
   ]
  },
  {
   "cell_type": "markdown",
   "metadata": {},
   "source": [
    "![Alt text](image-3.png)"
   ]
  },
  {
   "cell_type": "code",
   "execution_count": null,
   "metadata": {},
   "outputs": [],
   "source": []
  },
  {
   "cell_type": "code",
   "execution_count": null,
   "metadata": {},
   "outputs": [],
   "source": [
    "# Q 3\n",
    "# left join to find A-B that is entries in a not present in break\n",
    "# use b.key  is null in where"
   ]
  },
  {
   "cell_type": "markdown",
   "metadata": {},
   "source": [
    "![Alt text](image-4.png)"
   ]
  },
  {
   "cell_type": "code",
   "execution_count": null,
   "metadata": {},
   "outputs": [],
   "source": [
    "# SELECT p.page_id FROM pages as p\n",
    "# LEFT JOIN page_likes as pl\n",
    "# on pl.page_id = p.page_id\n",
    "# where pl.page_id is null\n",
    "# order by p.page_id;"
   ]
  },
  {
   "cell_type": "code",
   "execution_count": null,
   "metadata": {},
   "outputs": [],
   "source": [
    "# SELECT page_id\n",
    "# FROM pages\n",
    "# EXCEPT\n",
    "# SELECT page_id\n",
    "# FROM page_likes;"
   ]
  },
  {
   "cell_type": "code",
   "execution_count": null,
   "metadata": {},
   "outputs": [],
   "source": [
    "# SELECT page_id\n",
    "# FROM pages\n",
    "# WHERE page_id NOT IN (\n",
    "#   SELECT page_id\n",
    "#   FROM page_likes\n",
    "#   WHERE page_id IS NOT NULL"
   ]
  },
  {
   "cell_type": "code",
   "execution_count": null,
   "metadata": {},
   "outputs": [],
   "source": [
    "# SELECT page_id\n",
    "# FROM pages\n",
    "# WHERE NOT EXISTS (\n",
    "#   SELECT page_id\n",
    "#   FROM page_likes AS likes\n",
    "#   WHERE likes.page_id = pages.page_id\n",
    "# ;)"
   ]
  },
  {
   "cell_type": "markdown",
   "metadata": {},
   "source": []
  },
  {
   "cell_type": "code",
   "execution_count": null,
   "metadata": {},
   "outputs": [],
   "source": [
    "# # Q how to use subquery in from\n",
    "# Note we cans use same column name "
   ]
  },
  {
   "cell_type": "markdown",
   "metadata": {},
   "source": [
    "![Alt text](image-5.png)"
   ]
  },
  {
   "cell_type": "code",
   "execution_count": null,
   "metadata": {},
   "outputs": [],
   "source": [
    "# SELECT \n",
    "#   tweet_count_per_user AS tweet_bucket, \n",
    "#   COUNT(user_id) AS users_num \n",
    "# FROM (\n",
    "#   SELECT \n",
    "#     user_id, \n",
    "#     COUNT(tweet_id) AS tweet_count_per_user \n",
    "#   FROM tweets \n",
    "#   WHERE tweet_date BETWEEN '2022-01-01' \n",
    "#     AND '2022-12-31'\n",
    "#   GROUP BY user_id) AS total_tweets \n",
    "# GROUP BY tweet_count_per_user;"
   ]
  },
  {
   "cell_type": "code",
   "execution_count": null,
   "metadata": {},
   "outputs": [],
   "source": []
  },
  {
   "cell_type": "code",
   "execution_count": 1,
   "metadata": {},
   "outputs": [],
   "source": [
    "# extract month "
   ]
  },
  {
   "cell_type": "markdown",
   "metadata": {},
   "source": [
    "![Alt text](image-7.png)"
   ]
  },
  {
   "cell_type": "markdown",
   "metadata": {},
   "source": []
  },
  {
   "cell_type": "code",
   "execution_count": null,
   "metadata": {},
   "outputs": [],
   "source": []
  },
  {
   "cell_type": "code",
   "execution_count": null,
   "metadata": {},
   "outputs": [],
   "source": [
    "# LIKE and other operators"
   ]
  },
  {
   "cell_type": "markdown",
   "metadata": {},
   "source": [
    "![Alt text](image-8.png)"
   ]
  },
  {
   "cell_type": "markdown",
   "metadata": {},
   "source": [
    "![Alt text](image-10.png)"
   ]
  },
  {
   "cell_type": "code",
   "execution_count": null,
   "metadata": {},
   "outputs": [],
   "source": []
  },
  {
   "cell_type": "code",
   "execution_count": null,
   "metadata": {},
   "outputs": [],
   "source": [
    "# HAVING "
   ]
  },
  {
   "cell_type": "code",
   "execution_count": null,
   "metadata": {},
   "outputs": [],
   "source": [
    "# # # HAVING VS WHERE\n",
    "# # we can having having avg() without having that column in select\n",
    "# In SQL, HAVING can be used to filter aggregated data using multiple conditions, just in the same way WHERE can filter data with multiple conditions."
   ]
  },
  {
   "cell_type": "markdown",
   "metadata": {},
   "source": [
    "![Alt text](image-11.png)"
   ]
  },
  {
   "cell_type": "code",
   "execution_count": null,
   "metadata": {},
   "outputs": [],
   "source": [
    "# Can HAVING be used without GROUP BY?\n",
    "# It's technically possible to have HAVING without GROUP BY in SQL, and in this case HAVING operates the same as WHERE. However, practically speaking, it's super weird to use HAVING in this context. For the most part, you should just use a WHERE clause if trying to filter on non-aggregated values.\n",
    "\n"
   ]
  },
  {
   "cell_type": "code",
   "execution_count": null,
   "metadata": {},
   "outputs": [],
   "source": []
  },
  {
   "cell_type": "code",
   "execution_count": null,
   "metadata": {},
   "outputs": [],
   "source": [
    "# DISTINCT"
   ]
  },
  {
   "cell_type": "code",
   "execution_count": null,
   "metadata": {},
   "outputs": [],
   "source": [
    "# SELECT DISTINCT manufacturer\n",
    "# FROM pharmacy_sales;\n",
    "\n",
    "#VIMP ***\n",
    "\n",
    "# DISTINCT With Two Columns\n",
    "# If you include two (or more) columns in a SELECT DISTINCT clause, your results will contain all of the unique pairs of those two columns."
   ]
  },
  {
   "cell_type": "code",
   "execution_count": null,
   "metadata": {},
   "outputs": [],
   "source": [
    "# You can use DISTINCT with aggregate functions – the most common one being COUNT. Here's an example that finds the number of unique user's who made trades:\n",
    "\n",
    "# SELECT COUNT(DISTINCT user_id) \n",
    "# FROM trades;"
   ]
  },
  {
   "cell_type": "markdown",
   "metadata": {},
   "source": [
    "![Alt text](image-13.png)"
   ]
  },
  {
   "cell_type": "code",
   "execution_count": null,
   "metadata": {},
   "outputs": [],
   "source": []
  },
  {
   "cell_type": "code",
   "execution_count": null,
   "metadata": {},
   "outputs": [],
   "source": [
    "# ARITHMATIC"
   ]
  },
  {
   "cell_type": "code",
   "execution_count": null,
   "metadata": {},
   "outputs": [],
   "source": [
    "# In addition to querying raw data with SQL, you can also use math expressions to transform column values. Here's an example:\n",
    "\n",
    "# SELECT particle_speed / 10.0 + speed_offset\n",
    "# FROM particle_sensor_data\n",
    "# WHERE (particle_position ^ 2) * 10.0 > 500\n",
    "# AND sensor_type = 'photon'\n",
    "# AND measurement_day %  7 = 0;\n",
    "# Let's dive into each arithmetic operator, one by one.\n",
    "\n",
    "# SQL Arithmetic Operators\n",
    "# SQL Addition +\n",
    "# The + operator adds two numbers.\n",
    "\n",
    "# SELECT salary + bonus AS total_compensation FROM employees;\n",
    "# SQL Subtraction -\n",
    "# The - operator subtracts one column value from another.\n",
    "\n",
    "# SELECT revenue - expenses AS profit FROM product_sales;\n",
    "# SQL Multiplication *\n",
    "# The * operator multiplies two numbers.\n",
    "\n",
    "# SELECT units_sold * price AS revenue FROM ecomm_orders;\n",
    "# Note: this is exactly the same * as SELECT * FROM table_name... so don't get confused by *'s two uses!!\n",
    "\n",
    "# SQL Division /\n",
    "# The / operator divides the first column value by the number in the 2nd column.\n",
    "\n",
    "# SELECT country_gdp / population AS gdp_per_capita FROM econ_stats;"
   ]
  },
  {
   "cell_type": "markdown",
   "metadata": {},
   "source": [
    "![Alt text](image-14.png)"
   ]
  },
  {
   "cell_type": "markdown",
   "metadata": {},
   "source": []
  },
  {
   "cell_type": "code",
   "execution_count": null,
   "metadata": {},
   "outputs": [],
   "source": [
    "# Example of having min - max in select using group by..if we use group by min and max operates at group by level"
   ]
  },
  {
   "cell_type": "markdown",
   "metadata": {},
   "source": [
    "![Alt text](image-15.png)"
   ]
  },
  {
   "cell_type": "markdown",
   "metadata": {},
   "source": []
  },
  {
   "cell_type": "code",
   "execution_count": null,
   "metadata": {},
   "outputs": [],
   "source": [
    "# # In below note\n",
    "# we use where as filter is at row level\n",
    "# we cannot use alias in where as where gets evaluated first"
   ]
  },
  {
   "cell_type": "markdown",
   "metadata": {},
   "source": [
    "![Alt text](image-16.png)"
   ]
  },
  {
   "cell_type": "markdown",
   "metadata": {},
   "source": []
  },
  {
   "cell_type": "code",
   "execution_count": null,
   "metadata": {},
   "outputs": [],
   "source": [
    "# MATHEMTETCIAL FUNCTIONS"
   ]
  },
  {
   "cell_type": "code",
   "execution_count": null,
   "metadata": {},
   "outputs": [],
   "source": [
    "# ABS(): Calculating Absolute Differences"
   ]
  },
  {
   "cell_type": "code",
   "execution_count": null,
   "metadata": {},
   "outputs": [],
   "source": [
    "# SELECT \n",
    "#   date, \n",
    "#   ticker,\n",
    "#   (close-open) AS difference,\n",
    "#   ABS(close-open) AS abs_difference\n",
    "# FROM stock_prices\n",
    "# WHERE EXTRACT(YEAR FROM date) = 2023\n",
    "#   AND ticker = 'GOOG';"
   ]
  },
  {
   "cell_type": "code",
   "execution_count": null,
   "metadata": {},
   "outputs": [],
   "source": [
    "# ROUND(): Rounding Numbers\n",
    "# Consider a scenario where you're compiling a report displaying the average closing prices of Apple's stock (ticker: 'AAPL') throughout 2022. To ensure the report's readability, you decide to round the average prices to 2 decimal places."
   ]
  },
  {
   "cell_type": "code",
   "execution_count": null,
   "metadata": {},
   "outputs": [],
   "source": [
    "# SELECT \n",
    "#   ticker,\n",
    "#   AVG(close) AS avg_close,\n",
    "#   ROUND(AVG(close), 2) AS rounded_avg_close\n",
    "# FROM stock_prices\n",
    "# WHERE EXTRACT(YEAR FROM date) = 2022\n",
    "# GROUP BY ticker;"
   ]
  },
  {
   "cell_type": "code",
   "execution_count": null,
   "metadata": {},
   "outputs": [],
   "source": [
    "# CEIL() and FLOOR(): Rounding Up and Down\n",
    "# Now, imagine you're analyzing Facebook's stock performance (ticker: 'META') to identify potential trading ranges.\n",
    "\n",
    "# We can utilize the CEIL() function to round up and the FLOOR() function to round down to the lowest and highest prices.\n",
    "\n",
    "# SELECT \n",
    "#   date,\n",
    "#   ticker,\n",
    "#   high,\n",
    "#   CEIL(high) AS resistance_level,\n",
    "#   low,\n",
    "#   FLOOR(low) AS support_level\n",
    "# FROM stock_prices\n",
    "# WHERE ticker = 'META'\n",
    "# ORDER BY date;"
   ]
  },
  {
   "cell_type": "code",
   "execution_count": null,
   "metadata": {},
   "outputs": [],
   "source": [
    "# POWER(): Calculating Squared Values\n",
    "# In this scenario, we'll explore the concept of squared values by focusing on the 3 popular tech stocks: Apple ('AAPL'), Google ('GOOG'), and Microsoft ('MSFT'). Although this scenario is simplified for illustrative purposes, it offers a straightforward way to introduce the usage of the POWER() function.\n",
    "\n",
    "# The POWER() function raises a number to a specified power, allowing us to perform exponential calculations.\n",
    "\n",
    "# SELECT \n",
    "#   date,\n",
    "#   ticker,\n",
    "#   close,\n",
    "#   ROUND(POWER(close, 2),2) AS squared_close\n",
    "# FROM stock_prices\n",
    "# WHERE ticker IN ('AAPL', 'GOOG', 'MSFT')\n",
    "# ORDER BY date;"
   ]
  },
  {
   "cell_type": "code",
   "execution_count": null,
   "metadata": {},
   "outputs": [],
   "source": []
  },
  {
   "cell_type": "code",
   "execution_count": null,
   "metadata": {},
   "outputs": [],
   "source": []
  },
  {
   "cell_type": "code",
   "execution_count": null,
   "metadata": {},
   "outputs": [],
   "source": [
    "# DIVISION "
   ]
  },
  {
   "cell_type": "code",
   "execution_count": null,
   "metadata": {},
   "outputs": [],
   "source": [
    "# # VERY IMP\n",
    "# n SQL, the division operator / treats integers (whole numbers like 1, -69, 420) differently than in Excel. In SQL, integer division discards the remainder from the output, providing only the integer (whole number) part of the result. This behavior contrasts with Excel, which retains the decimal part."
   ]
  },
  {
   "cell_type": "code",
   "execution_count": null,
   "metadata": {},
   "outputs": [],
   "source": [
    "# You can still make SQL achieve decimal output with a few tricks such as:\n",
    "\n",
    "# CAST() function\n",
    "# multiplying by 1.0\n",
    "# being explicit with types using ::"
   ]
  },
  {
   "cell_type": "code",
   "execution_count": null,
   "metadata": {},
   "outputs": [],
   "source": [
    "# SELECT \n",
    "#   CAST(10 AS DECIMAL)/4,\n",
    "#   CAST(10 AS FLOAT)/4,\n",
    "#   10/CAST(6 AS DECIMAL),\n",
    "#   10/CAST(6 AS FLOAT); "
   ]
  },
  {
   "cell_type": "code",
   "execution_count": null,
   "metadata": {},
   "outputs": [],
   "source": [
    "# SELECT \n",
    "#   10/6,\n",
    "#   10*1.0/6,\n",
    "#   10/6*1.0,\n",
    "#   10/(6*1.0); "
   ]
  },
  {
   "cell_type": "code",
   "execution_count": null,
   "metadata": {},
   "outputs": [],
   "source": [
    "# SELECT \n",
    "#   10::DECIMAL/4,\n",
    "#   10::FLOAT/4,\n",
    "#   10/4::DECIMAL,\n",
    "#   10/4::FLOAT,\n",
    "#   10::DECIMAL/6,\n",
    "#   10::FLOAT/6;"
   ]
  },
  {
   "cell_type": "code",
   "execution_count": null,
   "metadata": {},
   "outputs": [],
   "source": []
  },
  {
   "cell_type": "code",
   "execution_count": null,
   "metadata": {},
   "outputs": [],
   "source": [
    "# Good question"
   ]
  },
  {
   "cell_type": "markdown",
   "metadata": {},
   "source": [
    "![Alt text](image-18.png)"
   ]
  },
  {
   "cell_type": "markdown",
   "metadata": {},
   "source": [
    "![Alt text](image-17.png)"
   ]
  },
  {
   "cell_type": "code",
   "execution_count": null,
   "metadata": {},
   "outputs": [],
   "source": []
  },
  {
   "cell_type": "code",
   "execution_count": null,
   "metadata": {},
   "outputs": [],
   "source": [
    "# HANDLING NULLS"
   ]
  },
  {
   "cell_type": "code",
   "execution_count": null,
   "metadata": {},
   "outputs": [],
   "source": [
    "# FOR NULL CHECK ALWAYS USE IS NULL OR IS NOT NULL\n",
    "\n",
    "# NULL ARE SORTED AT TOP"
   ]
  },
  {
   "cell_type": "markdown",
   "metadata": {},
   "source": [
    "![Alt text](image-19.png)"
   ]
  },
  {
   "cell_type": "code",
   "execution_count": null,
   "metadata": {},
   "outputs": [],
   "source": [
    "# Difference between COALESCE() and IFNULL()\n",
    "# While both the COALESCE() and IFNULL() functions serve a similar purpose of handling NULL values, there is a key difference between them.\n",
    "\n",
    "# COALESCE() Function: Versatile for multiple arguments, it returns the first non-null value among them.\n",
    "\n",
    "# COALESCE(arg1, arg2, arg3, ...)\n",
    "# IFNULL() Function: Handles two arguments, returning the second if the first is null; else, it returns the first.\n",
    "\n",
    "# IFNULL(expression, value_if_null)"
   ]
  },
  {
   "cell_type": "code",
   "execution_count": null,
   "metadata": {},
   "outputs": [],
   "source": [
    "# Example\n",
    "\n",
    "# Suppose you have these values:\n",
    "\n",
    "# arg1 is NULL\n",
    "# arg2 is 5\n",
    "# arg3 is 10\n",
    "# With COALESCE(arg1, arg2, arg3), the result would be 5 (the first non-null value). However, if arg2 is NULL, then the result would be 10 (the first non-null value).\n",
    "\n",
    "# With IFNULL(arg1, arg2), the result would be 5 (since arg1 is NULL, it returns the second argument, which is 5).\n",
    "\n",
    "# So, while they both can serve similar purposes,\n",
    "\n",
    "# COALESCE() offers more flexibility when dealing with multiple values,\n",
    "# Whereas IFNULL() is a more concise option when you have two values to work with."
   ]
  },
  {
   "cell_type": "markdown",
   "metadata": {},
   "source": []
  },
  {
   "cell_type": "code",
   "execution_count": null,
   "metadata": {},
   "outputs": [],
   "source": []
  },
  {
   "cell_type": "code",
   "execution_count": null,
   "metadata": {},
   "outputs": [],
   "source": [
    "# CASE STATMENT"
   ]
  },
  {
   "cell_type": "code",
   "execution_count": null,
   "metadata": {},
   "outputs": [],
   "source": [
    "# SELECT\n",
    "#   CASE \n",
    "#     WHEN condition_1 THEN result_1\n",
    "#     WHEN condition_2 THEN result_2\n",
    "#     WHEN ... THEN ...\n",
    "#     ELSE result_3 -- If no condition matches, return the result in ELSE clause\n",
    "#   END AS new_column_name -- Give your new column an alias here"
   ]
  },
  {
   "cell_type": "code",
   "execution_count": null,
   "metadata": {},
   "outputs": [],
   "source": []
  },
  {
   "cell_type": "code",
   "execution_count": null,
   "metadata": {},
   "outputs": [],
   "source": []
  },
  {
   "cell_type": "code",
   "execution_count": null,
   "metadata": {},
   "outputs": [],
   "source": []
  },
  {
   "cell_type": "code",
   "execution_count": null,
   "metadata": {},
   "outputs": [],
   "source": []
  },
  {
   "cell_type": "code",
   "execution_count": null,
   "metadata": {},
   "outputs": [],
   "source": []
  },
  {
   "cell_type": "code",
   "execution_count": null,
   "metadata": {},
   "outputs": [],
   "source": []
  },
  {
   "cell_type": "code",
   "execution_count": null,
   "metadata": {},
   "outputs": [],
   "source": []
  },
  {
   "cell_type": "code",
   "execution_count": null,
   "metadata": {},
   "outputs": [],
   "source": []
  },
  {
   "cell_type": "code",
   "execution_count": null,
   "metadata": {},
   "outputs": [],
   "source": []
  },
  {
   "cell_type": "code",
   "execution_count": null,
   "metadata": {},
   "outputs": [],
   "source": []
  },
  {
   "cell_type": "code",
   "execution_count": null,
   "metadata": {},
   "outputs": [],
   "source": []
  },
  {
   "cell_type": "code",
   "execution_count": null,
   "metadata": {},
   "outputs": [],
   "source": []
  },
  {
   "cell_type": "code",
   "execution_count": null,
   "metadata": {},
   "outputs": [],
   "source": []
  },
  {
   "cell_type": "code",
   "execution_count": null,
   "metadata": {},
   "outputs": [],
   "source": []
  },
  {
   "cell_type": "code",
   "execution_count": null,
   "metadata": {},
   "outputs": [],
   "source": [
    "# SQL JOINS"
   ]
  },
  {
   "cell_type": "code",
   "execution_count": null,
   "metadata": {},
   "outputs": [],
   "source": [
    "# 4 Types of SQL Joins\n",
    "# So far in this tutorial, we've simply use the JOIN keyword, which is short for an INNER JOIN. There's actually 4 different types of JOINS in SQL, which we'll now cover in detail.\n",
    "\n",
    "# Type of Joins\tDescription\n",
    "# INNER JOIN\tReturns only the rows with matching values from both tables.\n",
    "# LEFT JOIN\tReturns all the rows from the left table and the matching rows from the right table.\n",
    "# RIGHT JOIN\tReturns all the rows from the right table and the matching rows from the left table.\n",
    "# FULL OUTER JOIN\tReturns all rows when there is a match in either the left or the right table. If there is no match, NULL values are returned for columns from the "
   ]
  },
  {
   "cell_type": "markdown",
   "metadata": {},
   "source": [
    "![Alt text](image-20.png)"
   ]
  },
  {
   "cell_type": "code",
   "execution_count": null,
   "metadata": {},
   "outputs": [],
   "source": []
  },
  {
   "cell_type": "code",
   "execution_count": null,
   "metadata": {},
   "outputs": [],
   "source": []
  },
  {
   "cell_type": "code",
   "execution_count": null,
   "metadata": {},
   "outputs": [],
   "source": [
    "# SELECT\n",
    "# \tCONCAT ('CONCAT',' ', 'function');"
   ]
  },
  {
   "cell_type": "code",
   "execution_count": null,
   "metadata": {},
   "outputs": [],
   "source": [
    "# Introduction to PostgreSQL CONCAT function\n",
    "# To concatenate two or more strings into one, you use the string concatenation operator || as the following example:\n",
    "\n",
    "# SELECT\n",
    "#    'Concatenation' || ' ' || 'Operator' AS result_string;"
   ]
  },
  {
   "cell_type": "code",
   "execution_count": null,
   "metadata": {},
   "outputs": [],
   "source": []
  },
  {
   "cell_type": "code",
   "execution_count": null,
   "metadata": {},
   "outputs": [],
   "source": []
  },
  {
   "cell_type": "code",
   "execution_count": null,
   "metadata": {},
   "outputs": [],
   "source": [
    "# DATE"
   ]
  },
  {
   "cell_type": "code",
   "execution_count": null,
   "metadata": {},
   "outputs": [],
   "source": [
    "# CURRENT_DATE, CURRENT_TIME and CURRENT TIMESTAMP to return current date and time.\n",
    "# EXTRACT() and DATE_PART() to extract specific components of date.\n",
    "# DATE_TRUNC() to round down date or timestamp into specific level of precision.\n",
    "# INTERVAL to add or subtract time intervals in calculations.\n",
    "# TO_CHAR() to convert date or timestamp into strings.\n",
    "# ::DATE, TO_DATE(), ::TIMESTAMP, and TO_TIMESTAMP() to convert strings into date or timestamp."
   ]
  },
  {
   "cell_type": "code",
   "execution_count": null,
   "metadata": {},
   "outputs": [],
   "source": [
    "# Getting the Current Date and Time in SQL\n",
    "# If you want to find out the current date and time, here's the functions that you can use:\n",
    "\n",
    "# CURRENT_DATE: Returns the current date.\n",
    "# CURRENT_TIME: Returns the current time without the date.\n",
    "# CURRENT_TIMESTAMP (or NOW()): Returns the current date and time.\n",
    "# Let's apply these functions onto the messages table:\n",
    "\n",
    "# SELECT \n",
    "#   message_id,\n",
    "#   sent_date,\n",
    "#   CURRENT_DATE AS current_date,\n",
    "#   CURRENT_TIME AS current_time,\n",
    "#   CURRENT_TIMESTAMP AS current_timestamp\n",
    "# FROM messages\n",
    "# LIMIT 3;"
   ]
  },
  {
   "cell_type": "code",
   "execution_count": null,
   "metadata": {},
   "outputs": [],
   "source": [
    "# Extracting Parts from Dates in SQL\n",
    "# This is pretty straightforward! 😉 The EXTRACT() function extracts a specific component (i.e. year, month, day, hour, or minute) from a date or timestamp. You can also use DATE_PART() for the same purpose.\n",
    "\n",
    "# SELECT \n",
    "#   message_id, \n",
    "#   sent_date,\n",
    "#   EXTRACT(YEAR FROM sent_date) AS extracted_year,\n",
    "#   DATE_PART('year', sent_date) AS part_year,\n",
    "#   EXTRACT(MONTH FROM sent_date) AS extracted_month,\n",
    "#   DATE_PART('month', sent_date) AS part_month,\n",
    "#   EXTRACT(DAY FROM sent_date) AS extracted_day,\n",
    "#   DATE_PART('day', sent_date) AS part_day,\n",
    "#   EXTRACT(HOUR FROM sent_date) AS extracted_hour,\n",
    "#   DATE_PART('hour', sent_date) AS part_hour,\n",
    "#   EXTRACT(MINUTE FROM sent_date) AS extracted_minute,\n",
    "#   DATE_PART('minute', sent_date) AS part_minute\n",
    "# FROM messages\n",
    "# LIMIT 3;"
   ]
  },
  {
   "cell_type": "code",
   "execution_count": null,
   "metadata": {},
   "outputs": [],
   "source": [
    "# Truncating Date and Time in SQL\n",
    "# The DATE_TRUNC() rounds down a date or timestamp to a specified unit of time. In other words, it trims the finer details and retains the specified unit.\n",
    "\n",
    "# SELECT \n",
    "#   message_id,\n",
    "#   sent_date,\n",
    "#   DATE_TRUNC('month', sent_date) AS truncated_to_month,\n",
    "#   DATE_TRUNC('day', sent_date) AS truncated_to_day,\n",
    "#   DATE_TRUNC('hour', sent_date) AS truncated_to_hour  \n",
    "# FROM messages\n",
    "# LIMIT 3;\n",
    "# Here's what's happening in the results:\n",
    "\n",
    "# truncated_to_month: It rounds down the date to the beginning of the month. For example, if a message was sent on August 3rd, 2022 at 16:43, it's snapped to August 1st, 2022, while retaining the year and month.\n",
    "# truncated_to_day: It rounds down the date to the beginning of the day. The same August 3rd message becomes August 3rd, 2022, with the hour, minute, and seconds set to zero.\n",
    "# truncated_to_hour: It rounds down the time to the beginning of the hour. The message becomes August 3rd, 2022 at 16:00, with the minutes and seconds set to zero."
   ]
  },
  {
   "cell_type": "code",
   "execution_count": null,
   "metadata": {},
   "outputs": [],
   "source": [
    "# Adding and Subtracting Intervals in SQL\n",
    "# The INTERVAL function is used to handle date and time gaps by adding and subtracting intervals such as \"3 days\", \"5 hours\", \"45 minutes\".\n",
    "\n",
    "# SELECT \n",
    "#   message_id,\n",
    "#   sent_date,\n",
    "#   sent_date + INTERVAL '2 days' AS add_2days,\n",
    "#   sent_date - INTERVAL '3 days' AS minus_3days,\n",
    "#   sent_date + INTERVAL '2 hours' AS add_2hours,\n",
    "#   sent_date - INTERVAL '10 minutes' AS minus_10mins\n",
    "# FROM messages\n",
    "# LIMIT 3;"
   ]
  },
  {
   "cell_type": "code",
   "execution_count": null,
   "metadata": {},
   "outputs": [],
   "source": [
    "# Formatting Dates in SQL\n",
    "# TO_CHAR() converts a date or timestamp to a string with a specified format."
   ]
  },
  {
   "cell_type": "code",
   "execution_count": null,
   "metadata": {},
   "outputs": [],
   "source": [
    "# SELECT \n",
    "#   message_id,\n",
    "#   sent_date,\n",
    "#   TO_CHAR(sent_date, 'YYYY-MM-DD HH:MI:SS') AS formatted_iso8601,\n",
    "#   TO_CHAR(sent_date, 'YYYY-MM-DD HH:MI:SS AM') AS formatted_12hr,\n",
    "#   TO_CHAR(sent_date, 'Month DDth, YYYY') AS formatted_longmonth,\n",
    "#   TO_CHAR(sent_date, 'Mon DD, YYYY') AS formatted_shortmonth,\n",
    "#   TO_CHAR(sent_date, 'DD Month YYYY') AS formatted_daymonthyear,\n",
    "#   TO_CHAR(sent_date, 'Month') AS formatted_dayofmonth,\n",
    "#   TO_CHAR(sent_date, 'Day') AS formatted_dayofweek\n",
    "# FROM messages\n",
    "# LIMIT 3;"
   ]
  },
  {
   "cell_type": "code",
   "execution_count": null,
   "metadata": {},
   "outputs": [],
   "source": [
    "# You can use casting for date and timestamp data too! If you encounter date or timestamp data that's formatted as strings, here's two SQL functions that can help:\n",
    "\n",
    "# ::DATE or TO_DATE(): Convert strings into dates.\n",
    "# ::TIMESTAMP or TO_TIMESTAMP(): Convert strings into timestamps.\n",
    "# SELECT \n",
    "#   sent_date,\n",
    "#   sent_date::DATE AS casted_date,\n",
    "#   TO_DATE('2023-08-27', 'YYYY-MM-DD') AS converted_to_date,\n",
    "#   sent_date::TIMESTAMP AS casted_timestamp,\n",
    "#   TO_TIMESTAMP('2023-08-27 10:30:00', 'YYYY-MM-DD HH:MI:SS') AS converted_to_timestamp\n",
    "# FROM messages\n",
    "# LIMIT 3;"
   ]
  },
  {
   "cell_type": "code",
   "execution_count": null,
   "metadata": {},
   "outputs": [],
   "source": [
    "# VIMP\n",
    "# difference between two dates is interval \n",
    "# while comparing use '1 days'\n",
    "# see below where clase"
   ]
  },
  {
   "cell_type": "markdown",
   "metadata": {},
   "source": [
    "![Alt text](image-22.png)"
   ]
  },
  {
   "cell_type": "code",
   "execution_count": null,
   "metadata": {},
   "outputs": [],
   "source": []
  },
  {
   "cell_type": "markdown",
   "metadata": {},
   "source": [
    "![Alt text](image-21.png)"
   ]
  },
  {
   "cell_type": "code",
   "execution_count": null,
   "metadata": {},
   "outputs": [],
   "source": []
  },
  {
   "cell_type": "code",
   "execution_count": null,
   "metadata": {},
   "outputs": [],
   "source": [
    "# DATE()\n",
    "# Extracts the date part of a date or date/time expression. Example: For the below table named ‘Test’\n",
    "\n",
    "# Id\tName\tBirthTime\n",
    "# 4120\tPratik\t1996-09-26 16:44:15.581\n",
    "# Query:\n",
    "\n",
    "# SELECT Name, DATE(BirthTime) \n",
    "# AS BirthDate FROM Test;"
   ]
  },
  {
   "cell_type": "code",
   "execution_count": null,
   "metadata": {},
   "outputs": [],
   "source": [
    "# DATEDIFF()\n",
    "#  Returns the number of days between two dates. \n",
    "\n",
    "# Syntax:\n",
    "\n",
    "# DATEDIFF(date1, date2);\n",
    "\n",
    "# date1 & date2- date/time expression"
   ]
  },
  {
   "cell_type": "code",
   "execution_count": null,
   "metadata": {},
   "outputs": [],
   "source": [
    "# DATE_ADD() \n",
    "#  Adds a specified time interval to a date.\n",
    "\n",
    "# Syntax:\n",
    "\n",
    "# DATE_ADD(date, INTERVAL expr type);\n",
    "\n",
    "# Where,  date – valid date expression, and expr is the number of intervals we want to add. and type can be one of the following: MICROSECOND, SECOND, MINUTE, HOUR, DAY, WEEK, MONTH, QUARTER, YEAR, etc. Example: For the below table named ‘Test’\n",
    "\n",
    "# Id\tName\tBirthTime\n",
    "# 4120\tPratik\t1996-09-26 16:44:15.581\n",
    "# Query:\n",
    "# SELECT Name, DATE_ADD(BirthTime, INTERVAL \n",
    "# 1 YEAR) AS BirthTimeModified FROM Test;"
   ]
  },
  {
   "cell_type": "code",
   "execution_count": null,
   "metadata": {},
   "outputs": [],
   "source": []
  },
  {
   "cell_type": "code",
   "execution_count": null,
   "metadata": {},
   "outputs": [],
   "source": [
    "# GOOD QUETION"
   ]
  },
  {
   "attachments": {
    "image.png": {
     "image/png": "[encoded data removed]"
    }
   },
   "cell_type": "markdown",
   "metadata": {},
   "source": [
    "![image.png](attachment:image.png)"
   ]
  },
  {
   "cell_type": "code",
   "execution_count": null,
   "metadata": {},
   "outputs": [],
   "source": []
  },
  {
   "cell_type": "code",
   "execution_count": null,
   "metadata": {},
   "outputs": [],
   "source": [
    "## WINDOW FUNCTIONS ##\n",
    "\n",
    "# NOTE SUM an AVERAGE are rolling if we use order by ..othwer wise whole window\n",
    "# MIN,MAX and count take whole window"
   ]
  },
  {
   "cell_type": "code",
   "execution_count": null,
   "metadata": {},
   "outputs": [],
   "source": [
    "# # this gives running average\n",
    "# SELECT \n",
    "#   user_id,\n",
    "#   category, \n",
    "#   product,\n",
    "#   transaction_date,\n",
    "#   spend,\n",
    "#   ROUND(AVG(spend) OVER (\n",
    "#     PARTITION BY user_id ORDER BY spend ),2) AS rolling_avg_spend\n",
    "# FROM product_spend;"
   ]
  },
  {
   "cell_type": "code",
   "execution_count": null,
   "metadata": {},
   "outputs": [],
   "source": [
    "# Same value for whole window\n",
    "# SELECT \n",
    "#   user_id,\n",
    "#   category, \n",
    "#   product,\n",
    "#   transaction_date,\n",
    "#   spend,\n",
    "#   ROUND(AVG(spend) OVER (\n",
    "#     PARTITION BY user_id  ),2) AS rolling_avg_spend\n",
    "# FROM product_spend;"
   ]
  },
  {
   "cell_type": "code",
   "execution_count": null,
   "metadata": {},
   "outputs": [],
   "source": [
    "# how to calculate 3 day avegare..check below"
   ]
  },
  {
   "cell_type": "markdown",
   "metadata": {},
   "source": [
    "![Alt text](image-26.png)"
   ]
  },
  {
   "cell_type": "code",
   "execution_count": null,
   "metadata": {},
   "outputs": [],
   "source": [
    "# In this tutorial, we'll explore the 7 commonly used SQL Aggregate Window Functions:\n",
    "\n",
    "# COUNT() counts the number of rows in a specified column across a defined window.\n",
    "# SUM() computes the sum of values within a specified column across a defined window.\n",
    "# AVG() calculates the average of a selected group of values across a defined window.\n",
    "# MIN() retrieves the lowest value from a particular column across a defined window.\n",
    "# MAX() fetches the highest value from a specific column across a defined window.\n",
    "# FIRST_VALUE() returns the first value in a designated column across a defined window.\n",
    "# LAST_VALUE() provides the last value in a given column across a defined window."
   ]
  },
  {
   "cell_type": "code",
   "execution_count": null,
   "metadata": {},
   "outputs": [],
   "source": [
    "# Example sum..siumilarly avg"
   ]
  },
  {
   "cell_type": "markdown",
   "metadata": {},
   "source": [
    "![Alt text](image-23.png)"
   ]
  },
  {
   "cell_type": "code",
   "execution_count": null,
   "metadata": {},
   "outputs": [],
   "source": [
    "# Example min..simlarly max()"
   ]
  },
  {
   "cell_type": "markdown",
   "metadata": {},
   "source": [
    "![Alt text](image-24.png)"
   ]
  },
  {
   "cell_type": "code",
   "execution_count": null,
   "metadata": {},
   "outputs": [],
   "source": []
  },
  {
   "cell_type": "markdown",
   "metadata": {},
   "source": [
    "![Alt text](image-25.png)"
   ]
  },
  {
   "cell_type": "code",
   "execution_count": null,
   "metadata": {},
   "outputs": [],
   "source": []
  },
  {
   "cell_type": "code",
   "execution_count": null,
   "metadata": {},
   "outputs": [],
   "source": [
    "## V IMP ******\n",
    "## Rolling average usign rows"
   ]
  },
  {
   "cell_type": "markdown",
   "metadata": {},
   "source": []
  },
  {
   "cell_type": "code",
   "execution_count": null,
   "metadata": {},
   "outputs": [],
   "source": [
    "# Ranking"
   ]
  },
  {
   "cell_type": "markdown",
   "metadata": {},
   "source": [
    "![Alt text](image-27.png)"
   ]
  },
  {
   "cell_type": "code",
   "execution_count": null,
   "metadata": {},
   "outputs": [],
   "source": [
    "# Lead and LAg"
   ]
  },
  {
   "cell_type": "markdown",
   "metadata": {},
   "source": [
    "![Alt text](image-28.png)"
   ]
  },
  {
   "cell_type": "code",
   "execution_count": null,
   "metadata": {},
   "outputs": [],
   "source": [
    "# # We can partion by mutliple columns\n",
    "# SELECT category,product,spend,\n",
    "# row_number() OVER(\n",
    "# PARTITION BY category, spend\n",
    "# )\n",
    "\n",
    "# FROM product_spend;"
   ]
  },
  {
   "cell_type": "code",
   "execution_count": null,
   "metadata": {},
   "outputs": [],
   "source": [
    "# MODE\n",
    "# MODE() WITHIN GROUP (ORDER BY sort_expression) returns the most frequent value amongst input values (NULL will not be selected).\n",
    "\n",
    "# Example 1:\n",
    "\n",
    "# Find the most popular length of films.\n",
    "\n",
    "# SELECT MODE() WITHIN GROUP (ORDER BY length)\n",
    "# FROM film;\n",
    "\n",
    "# MODE\n",
    "# 85"
   ]
  },
  {
   "cell_type": "code",
   "execution_count": null,
   "metadata": {},
   "outputs": [],
   "source": [
    "# need to chec k below."
   ]
  },
  {
   "cell_type": "markdown",
   "metadata": {},
   "source": [
    "![Alt text](image-34.png)"
   ]
  },
  {
   "cell_type": "markdown",
   "metadata": {},
   "source": []
  },
  {
   "cell_type": "code",
   "execution_count": null,
   "metadata": {},
   "outputs": [],
   "source": []
  },
  {
   "cell_type": "code",
   "execution_count": null,
   "metadata": {},
   "outputs": [],
   "source": []
  },
  {
   "cell_type": "code",
   "execution_count": null,
   "metadata": {},
   "outputs": [],
   "source": []
  },
  {
   "cell_type": "code",
   "execution_count": 1,
   "metadata": {},
   "outputs": [],
   "source": [
    "# V IMP Q"
   ]
  },
  {
   "cell_type": "code",
   "execution_count": null,
   "metadata": {},
   "outputs": [],
   "source": [
    "# Here we need to first group at category and product and then sort\n",
    "# Ntoe the use of sum(spend) in order by..we cannot use total_spend"
   ]
  },
  {
   "cell_type": "markdown",
   "metadata": {},
   "source": [
    "![Alt text](image-29.png)"
   ]
  },
  {
   "cell_type": "markdown",
   "metadata": {},
   "source": [
    "![Alt text](image-30.png)"
   ]
  },
  {
   "cell_type": "code",
   "execution_count": null,
   "metadata": {},
   "outputs": [],
   "source": []
  },
  {
   "cell_type": "code",
   "execution_count": null,
   "metadata": {},
   "outputs": [],
   "source": []
  },
  {
   "cell_type": "markdown",
   "metadata": {},
   "source": [
    "![Alt text](image-33.png)"
   ]
  },
  {
   "cell_type": "markdown",
   "metadata": {},
   "source": [
    "![Alt text](image-31.png)"
   ]
  },
  {
   "cell_type": "markdown",
   "metadata": {},
   "source": []
  },
  {
   "cell_type": "code",
   "execution_count": null,
   "metadata": {},
   "outputs": [],
   "source": []
  },
  {
   "cell_type": "code",
   "execution_count": null,
   "metadata": {},
   "outputs": [],
   "source": [
    "# Self join"
   ]
  },
  {
   "cell_type": "markdown",
   "metadata": {},
   "source": [
    "![Alt text](image-35.png)"
   ]
  },
  {
   "cell_type": "markdown",
   "metadata": {},
   "source": []
  },
  {
   "cell_type": "code",
   "execution_count": null,
   "metadata": {},
   "outputs": [],
   "source": [
    "# # UNION\n",
    "# In SQL, UNION and UNION ALL and are operators used to vertically concatenate two or more results.\n",
    "\n",
    "# The key difference between UNION ALL and UNION is:\n",
    "\n",
    "# UNION ALL keeps everything, including duplicates.\n",
    "# UNION removes duplicates, so you get only the unique items."
   ]
  },
  {
   "cell_type": "code",
   "execution_count": null,
   "metadata": {},
   "outputs": [],
   "source": [
    "# To sum it up:\n",
    "\n",
    "# JOINS combine results horizontally.\n",
    "# UNION ALL and UNION stacks two or more results vertically.\n",
    "# INTERSECT identifies common rows between two or more results.\n",
    "# EXCEPT finds unique rows in the first SELECT query, but not present in the second SELECT query."
   ]
  },
  {
   "cell_type": "markdown",
   "metadata": {},
   "source": []
  },
  {
   "cell_type": "code",
   "execution_count": null,
   "metadata": {},
   "outputs": [],
   "source": [
    "# ORDER OF EXECUTION"
   ]
  },
  {
   "cell_type": "markdown",
   "metadata": {},
   "source": [
    "![Alt text](image-36.png)"
   ]
  },
  {
   "cell_type": "markdown",
   "metadata": {},
   "source": []
  }
 ],
 "metadata": {
  "kernelspec": {
   "display_name": "Python 3",
   "language": "python",
   "name": "python3"
  },
  "language_info": {
   "codemirror_mode": {
    "name": "ipython",
    "version": 3
   },
   "file_extension": ".py",
   "mimetype": "text/x-python",
   "name": "python",
   "nbconvert_exporter": "python",
   "pygments_lexer": "ipython3",
   "version": "3.11.3"
  },
  "orig_nbformat": 4
 },
 "nbformat": 4,
 "nbformat_minor": 2
}
